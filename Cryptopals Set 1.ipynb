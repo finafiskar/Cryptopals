{
 "cells": [
  {
   "cell_type": "markdown",
   "id": "7ed498f7",
   "metadata": {},
   "source": [
    "# 1.1 Convert hex to base64"
   ]
  },
  {
   "cell_type": "code",
   "execution_count": 7,
   "id": "21b536c3",
   "metadata": {},
   "outputs": [
    {
     "name": "stdout",
     "output_type": "stream",
     "text": [
      "b'SSdtIGtpbGxpbmcgeW91ciBicmFpbiBsaWtlIGEgcG9pc29ub3VzIG11c2hyb29t'\n"
     ]
    }
   ],
   "source": [
    "import base64\n",
    "\n",
    "def hex_to_b64(string:str =''):\n",
    "    hex_string = bytearray.fromhex(string)\n",
    "    return base64.b64encode(hex_string)\n",
    "    \n",
    "b64_string = hex_to_b64('49276d206b696c6c696e6720796f757220627261696e206c696b65206120706f69736f6e6f7573206d757368726f6f6d')\n",
    "print(b64_string)"
   ]
  },
  {
   "cell_type": "markdown",
   "id": "7c734622",
   "metadata": {},
   "source": [
    "# 1.2 Fixed XOR"
   ]
  },
  {
   "cell_type": "code",
   "execution_count": 78,
   "id": "f2a1f358",
   "metadata": {},
   "outputs": [
    {
     "name": "stdout",
     "output_type": "stream",
     "text": [
      "b'746865206b696420646f6e277420706c6179'\n"
     ]
    }
   ],
   "source": [
    "import binascii\n",
    "\n",
    "def xor(base: str, key: str):\n",
    "    if len(base) != len(key):\n",
    "        return -1\n",
    "    \n",
    "    base_byte = bytearray.fromhex(base)\n",
    "    key_byte = bytearray.fromhex(key)\n",
    "    xored = bytes(a ^ b for (a, b) in zip(base_byte, key_byte))\n",
    "    \n",
    "    return binascii.hexlify(xored)\n",
    "    \n",
    "ret = xor('1c0111001f010100061a024b53535009181c', '686974207468652062756c6c277320657965')\n",
    "print(ret)"
   ]
  },
  {
   "cell_type": "markdown",
   "id": "0192eb59",
   "metadata": {},
   "source": [
    "# 1.3 Single-byte XOR cipher"
   ]
  },
  {
   "cell_type": "code",
   "execution_count": 99,
   "id": "3b20ed2e",
   "metadata": {},
   "outputs": [
    {
     "name": "stdout",
     "output_type": "stream",
     "text": [
      "X 1b37373331363f78151b7f2b783431333d78397828372d363c78373e783a393b3736 58585858585858585858585858585858585858585858585858585858585858585858 {'words': ['Cooking', \"MC's\", 'like', 'a', 'pound', 'of', 'bacon'], 'number_of_words': 7, 'matches_in_wordlist': ['like', 'a', 'pound', 'of']}\n"
     ]
    }
   ],
   "source": [
    "def sentence_statistics(string, wordlist:list):\n",
    "    words = string.split(' ')\n",
    "    number_of_words = len(words)\n",
    "    matches_in_wordlist = [word for word in words if word in wordlist]\n",
    "    \n",
    "    return {'words': words, 'number_of_words': len(words), 'matches_in_wordlist': matches_in_wordlist}        \n",
    "\n",
    "with open('./data/wordlist.txt', 'r') as fp:\n",
    "    wordlist = fp.read()\n",
    "\n",
    "def xor_string_with_single_char(string):\n",
    "    str_len = int(len(string)/2)\n",
    "    for i in range(33, 126):\n",
    "        key = (chr(i)*str_len).encode('utf-8').hex()\n",
    "        xored = xor(string, key)\n",
    "        try:\n",
    "            asc_string = binascii.unhexlify(xored).decode('utf8')\n",
    "        except UnicodeDecodeError:\n",
    "            continue\n",
    "        stats = sentence_statistics(asc_string, wordlist)\n",
    "        if stats['number_of_words'] > 2 and len(stats['matches_in_wordlist']) > 1:\n",
    "            print(chr(i), string, key, stats)\n",
    "\n",
    "base = '1b37373331363f78151b7f2b783431333d78397828372d363c78373e783a393b3736'\n",
    "xor_string_with_single_char(base)"
   ]
  },
  {
   "cell_type": "markdown",
   "id": "51447fa9",
   "metadata": {},
   "source": [
    "# 1.4 Detect single-character XOR"
   ]
  },
  {
   "cell_type": "code",
   "execution_count": 100,
   "id": "23b32e53",
   "metadata": {},
   "outputs": [
    {
     "name": "stdout",
     "output_type": "stream",
     "text": [
      "5 7b5a4215415d544115415d5015455447414c155c46155f4058455c5b523f 353535353535353535353535353535353535353535353535353535353535 {'words': ['Now', 'that', 'the', 'party', 'is', 'jumping\\n'], 'number_of_words': 6, 'matches_in_wordlist': ['that', 'the', 'party', 'is']}\n"
     ]
    }
   ],
   "source": [
    "with open('./data/1.4.txt', 'r') as fp:\n",
    "    rows = fp.read().split('\\n')\n",
    "\n",
    "for row in rows:\n",
    "    xor_string_with_single_char(row)"
   ]
  },
  {
   "cell_type": "code",
   "execution_count": null,
   "id": "b82d5f07",
   "metadata": {},
   "outputs": [],
   "source": []
  }
 ],
 "metadata": {
  "kernelspec": {
   "display_name": "Python 3 (ipykernel)",
   "language": "python",
   "name": "python3"
  },
  "language_info": {
   "codemirror_mode": {
    "name": "ipython",
    "version": 3
   },
   "file_extension": ".py",
   "mimetype": "text/x-python",
   "name": "python",
   "nbconvert_exporter": "python",
   "pygments_lexer": "ipython3",
   "version": "3.8.12"
  }
 },
 "nbformat": 4,
 "nbformat_minor": 5
}
